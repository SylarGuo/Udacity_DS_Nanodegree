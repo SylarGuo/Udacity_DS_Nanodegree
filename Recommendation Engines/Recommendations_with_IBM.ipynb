{
  "cells": [
    {
      "cell_type": "markdown",
      "metadata": {
        "id": "CRJ7lHo0611O"
      },
      "source": [
        "# Recommendations with IBM\n",
        "\n",
        "In this notebook, you will be putting your recommendation skills to use on real data from the IBM Watson Studio platform. \n",
        "\n",
        "\n",
        "You may either submit your notebook through the workspace here, or you may work from your local machine and submit through the next page.  Either way assure that your code passes the project [RUBRIC](https://review.udacity.com/#!/rubrics/2322/view).  **Please save regularly.**\n",
        "\n",
        "By following the table of contents, you will build out a number of different methods for making recommendations that can be used for different situations. \n",
        "\n",
        "\n",
        "## Table of Contents\n",
        "\n",
        "I. [Exploratory Data Analysis](#Exploratory-Data-Analysis)<br>\n",
        "II. [Rank Based Recommendations](#Rank)<br>\n",
        "III. [User-User Based Collaborative Filtering](#User-User)<br>\n",
        "IV. [Content Based Recommendations (EXTRA - NOT REQUIRED)](#Content-Recs)<br>\n",
        "V. [Matrix Factorization](#Matrix-Fact)<br>\n",
        "VI. [Extras & Concluding](#conclusions)\n",
        "\n",
        "At the end of the notebook, you will find directions for how to submit your work.  Let's get started by importing the necessary libraries and reading in the data."
      ]
    },
    {
      "cell_type": "code",
      "execution_count": null,
      "metadata": {
        "id": "xuSSM92d611Q",
        "outputId": "03904d6a-4634-4cba-9479-645a4396e3f7"
      },
      "outputs": [
        {
          "data": {
            "text/html": [
              "<div>\n",
              "<style scoped>\n",
              "    .dataframe tbody tr th:only-of-type {\n",
              "        vertical-align: middle;\n",
              "    }\n",
              "\n",
              "    .dataframe tbody tr th {\n",
              "        vertical-align: top;\n",
              "    }\n",
              "\n",
              "    .dataframe thead th {\n",
              "        text-align: right;\n",
              "    }\n",
              "</style>\n",
              "<table border=\"1\" class=\"dataframe\">\n",
              "  <thead>\n",
              "    <tr style=\"text-align: right;\">\n",
              "      <th></th>\n",
              "      <th>article_id</th>\n",
              "      <th>title</th>\n",
              "      <th>email</th>\n",
              "    </tr>\n",
              "  </thead>\n",
              "  <tbody>\n",
              "    <tr>\n",
              "      <th>0</th>\n",
              "      <td>1430.0</td>\n",
              "      <td>using pixiedust for fast, flexible, and easier...</td>\n",
              "      <td>ef5f11f77ba020cd36e1105a00ab868bbdbf7fe7</td>\n",
              "    </tr>\n",
              "    <tr>\n",
              "      <th>1</th>\n",
              "      <td>1314.0</td>\n",
              "      <td>healthcare python streaming application demo</td>\n",
              "      <td>083cbdfa93c8444beaa4c5f5e0f5f9198e4f9e0b</td>\n",
              "    </tr>\n",
              "    <tr>\n",
              "      <th>2</th>\n",
              "      <td>1429.0</td>\n",
              "      <td>use deep learning for image classification</td>\n",
              "      <td>b96a4f2e92d8572034b1e9b28f9ac673765cd074</td>\n",
              "    </tr>\n",
              "    <tr>\n",
              "      <th>3</th>\n",
              "      <td>1338.0</td>\n",
              "      <td>ml optimization using cognitive assistant</td>\n",
              "      <td>06485706b34a5c9bf2a0ecdac41daf7e7654ceb7</td>\n",
              "    </tr>\n",
              "    <tr>\n",
              "      <th>4</th>\n",
              "      <td>1276.0</td>\n",
              "      <td>deploy your python model as a restful api</td>\n",
              "      <td>f01220c46fc92c6e6b161b1849de11faacd7ccb2</td>\n",
              "    </tr>\n",
              "  </tbody>\n",
              "</table>\n",
              "</div>"
            ],
            "text/plain": [
              "   article_id                                              title  \\\n",
              "0      1430.0  using pixiedust for fast, flexible, and easier...   \n",
              "1      1314.0       healthcare python streaming application demo   \n",
              "2      1429.0         use deep learning for image classification   \n",
              "3      1338.0          ml optimization using cognitive assistant   \n",
              "4      1276.0          deploy your python model as a restful api   \n",
              "\n",
              "                                      email  \n",
              "0  ef5f11f77ba020cd36e1105a00ab868bbdbf7fe7  \n",
              "1  083cbdfa93c8444beaa4c5f5e0f5f9198e4f9e0b  \n",
              "2  b96a4f2e92d8572034b1e9b28f9ac673765cd074  \n",
              "3  06485706b34a5c9bf2a0ecdac41daf7e7654ceb7  \n",
              "4  f01220c46fc92c6e6b161b1849de11faacd7ccb2  "
            ]
          },
          "execution_count": 43,
          "metadata": {},
          "output_type": "execute_result"
        }
      ],
      "source": [
        "#import libs\n",
        "import pandas as pd\n",
        "import numpy as np\n",
        "import matplotlib.pyplot as plt\n",
        "import project_tests as t\n",
        "import pickle\n",
        "import seaborn as sns\n",
        "sns.set()\n",
        "%matplotlib inline\n",
        "\n",
        "df = pd.read_csv('data/user-item-interactions.csv')\n",
        "df_content = pd.read_csv('data/articles_community.csv')\n",
        "del df['Unnamed: 0']\n",
        "del df_content['Unnamed: 0']\n",
        "\n",
        "# Show df to get an idea of the data\n",
        "df.head()"
      ]
    },
    {
      "cell_type": "code",
      "execution_count": null,
      "metadata": {
        "id": "Ch8UP_lu611R",
        "outputId": "088e0e9f-3cf3-41c0-bee2-857967b8740e"
      },
      "outputs": [
        {
          "data": {
            "text/html": [
              "<div>\n",
              "<style scoped>\n",
              "    .dataframe tbody tr th:only-of-type {\n",
              "        vertical-align: middle;\n",
              "    }\n",
              "\n",
              "    .dataframe tbody tr th {\n",
              "        vertical-align: top;\n",
              "    }\n",
              "\n",
              "    .dataframe thead th {\n",
              "        text-align: right;\n",
              "    }\n",
              "</style>\n",
              "<table border=\"1\" class=\"dataframe\">\n",
              "  <thead>\n",
              "    <tr style=\"text-align: right;\">\n",
              "      <th></th>\n",
              "      <th>doc_body</th>\n",
              "      <th>doc_description</th>\n",
              "      <th>doc_full_name</th>\n",
              "      <th>doc_status</th>\n",
              "      <th>article_id</th>\n",
              "    </tr>\n",
              "  </thead>\n",
              "  <tbody>\n",
              "    <tr>\n",
              "      <th>0</th>\n",
              "      <td>Skip navigation Sign in SearchLoading...\\r\\n\\r...</td>\n",
              "      <td>Detect bad readings in real time using Python ...</td>\n",
              "      <td>Detect Malfunctioning IoT Sensors with Streami...</td>\n",
              "      <td>Live</td>\n",
              "      <td>0</td>\n",
              "    </tr>\n",
              "    <tr>\n",
              "      <th>1</th>\n",
              "      <td>No Free Hunch Navigation * kaggle.com\\r\\n\\r\\n ...</td>\n",
              "      <td>See the forest, see the trees. Here lies the c...</td>\n",
              "      <td>Communicating data science: A guide to present...</td>\n",
              "      <td>Live</td>\n",
              "      <td>1</td>\n",
              "    </tr>\n",
              "    <tr>\n",
              "      <th>2</th>\n",
              "      <td>☰ * Login\\r\\n * Sign Up\\r\\n\\r\\n * Learning Pat...</td>\n",
              "      <td>Here’s this week’s news in Data Science and Bi...</td>\n",
              "      <td>This Week in Data Science (April 18, 2017)</td>\n",
              "      <td>Live</td>\n",
              "      <td>2</td>\n",
              "    </tr>\n",
              "    <tr>\n",
              "      <th>3</th>\n",
              "      <td>DATALAYER: HIGH THROUGHPUT, LOW LATENCY AT SCA...</td>\n",
              "      <td>Learn how distributed DBs solve the problem of...</td>\n",
              "      <td>DataLayer Conference: Boost the performance of...</td>\n",
              "      <td>Live</td>\n",
              "      <td>3</td>\n",
              "    </tr>\n",
              "    <tr>\n",
              "      <th>4</th>\n",
              "      <td>Skip navigation Sign in SearchLoading...\\r\\n\\r...</td>\n",
              "      <td>This video demonstrates the power of IBM DataS...</td>\n",
              "      <td>Analyze NY Restaurant data using Spark in DSX</td>\n",
              "      <td>Live</td>\n",
              "      <td>4</td>\n",
              "    </tr>\n",
              "  </tbody>\n",
              "</table>\n",
              "</div>"
            ],
            "text/plain": [
              "                                            doc_body  \\\n",
              "0  Skip navigation Sign in SearchLoading...\\r\\n\\r...   \n",
              "1  No Free Hunch Navigation * kaggle.com\\r\\n\\r\\n ...   \n",
              "2  ☰ * Login\\r\\n * Sign Up\\r\\n\\r\\n * Learning Pat...   \n",
              "3  DATALAYER: HIGH THROUGHPUT, LOW LATENCY AT SCA...   \n",
              "4  Skip navigation Sign in SearchLoading...\\r\\n\\r...   \n",
              "\n",
              "                                     doc_description  \\\n",
              "0  Detect bad readings in real time using Python ...   \n",
              "1  See the forest, see the trees. Here lies the c...   \n",
              "2  Here’s this week’s news in Data Science and Bi...   \n",
              "3  Learn how distributed DBs solve the problem of...   \n",
              "4  This video demonstrates the power of IBM DataS...   \n",
              "\n",
              "                                       doc_full_name doc_status  article_id  \n",
              "0  Detect Malfunctioning IoT Sensors with Streami...       Live           0  \n",
              "1  Communicating data science: A guide to present...       Live           1  \n",
              "2         This Week in Data Science (April 18, 2017)       Live           2  \n",
              "3  DataLayer Conference: Boost the performance of...       Live           3  \n",
              "4      Analyze NY Restaurant data using Spark in DSX       Live           4  "
            ]
          },
          "execution_count": 44,
          "metadata": {},
          "output_type": "execute_result"
        }
      ],
      "source": [
        "# Show df_content to get an idea of the data\n",
        "df_content.head()"
      ]
    },
    {
      "cell_type": "markdown",
      "metadata": {
        "id": "efriepfm611S"
      },
      "source": [
        "### <a class=\"anchor\" id=\"Exploratory-Data-Analysis\">Part I : Exploratory Data Analysis</a>\n",
        "\n",
        "Use the dictionary and cells below to provide some insight into the descriptive statistics of the data.\n",
        "\n",
        "`1.` What is the distribution of how many articles a user interacts with in the dataset?  Provide a visual and descriptive statistics to assist with giving a look at the number of times each user interacts with an article.  "
      ]
    },
    {
      "cell_type": "code",
      "execution_count": null,
      "metadata": {
        "id": "vvUIHKOz611S",
        "outputId": "8477170b-7848-4999-8219-5bc64bad819e"
      },
      "outputs": [
        {
          "data": {
            "text/plain": [
              "email\n",
              "0000b6387a0366322d7fbfc6434af145adf7fed1    13\n",
              "001055fc0bb67f71e8fa17002342b256a30254cd     4\n",
              "00148e4911c7e04eeff8def7bbbdaf1c59c2c621     3\n",
              "001a852ecbd6cc12ab77a785efa137b2646505fe     6\n",
              "001fc95b90da5c3cb12c501d201a915e4f093290     2\n",
              "Name: article_id, dtype: int64"
            ]
          },
          "execution_count": 45,
          "metadata": {},
          "output_type": "execute_result"
        }
      ],
      "source": [
        "median_val = df.groupby('email')['article_id'].count().median() # 50% of individuals interact with 3 number of articles or fewer.\n",
        "max_views_by_user = df.groupby('email')['article_id'].count().max() # The maximum number of user-article interactions by any 1 user is 364.\n",
        "user_interacts = df.groupby('email')['article_id'].count()\n",
        "user_interacts.head()"
      ]
    },
    {
      "cell_type": "code",
      "execution_count": null,
      "metadata": {
        "id": "RclMPQbt611T",
        "outputId": "bff6860d-c394-4904-9764-ed1ba4a085dd"
      },
      "outputs": [
        {
          "data": {
            "text/plain": [
              "count    5148.000000\n",
              "mean        8.930847\n",
              "std        16.802267\n",
              "min         1.000000\n",
              "25%         1.000000\n",
              "50%         3.000000\n",
              "75%         9.000000\n",
              "max       364.000000\n",
              "Name: article_id, dtype: float64"
            ]
          },
          "execution_count": 46,
          "metadata": {},
          "output_type": "execute_result"
        }
      ],
      "source": [
        "user_interacts.describe()"
      ]
    },
    {
      "cell_type": "code",
      "execution_count": null,
      "metadata": {
        "id": "N-6GAB3e611T",
        "outputId": "1c1b4dab-5295-4a73-fda7-9c5f47cf7d4a"
      },
      "outputs": [
        {
          "data": {
            "image/png": "[encoded data removed]",
            "text/plain": [
              "<matplotlib.figure.Figure at 0x7f26776dbf98>"
            ]
          },
          "metadata": {
            "needs_background": "light"
          },
          "output_type": "display_data"
        }
      ],
      "source": [
        "plt.figure(figsize=(12,8))\n",
        "user_interacts.plot(kind='hist',color='green')\n",
        "plt.xlabel('User Article Interactions');"
      ]
    },
    {
      "cell_type": "code",
      "execution_count": null,
      "metadata": {
        "id": "WDZUI3SN611U",
        "outputId": "306a7596-d02a-479f-a941-7321e6528f84"
      },
      "outputs": [
        {
          "data": {
            "text/plain": [
              "3.0"
            ]
          },
          "execution_count": 48,
          "metadata": {},
          "output_type": "execute_result"
        }
      ],
      "source": [
        "# 50% of individuals interact with 3 number of articles or fewer.\n",
        "df.groupby('email')['article_id'].count().median()\n"
      ]
    },
    {
      "cell_type": "code",
      "execution_count": null,
      "metadata": {
        "id": "peK06Guy611V",
        "outputId": "2c15c22e-f10c-4c31-e8de-1d7c464607a1"
      },
      "outputs": [
        {
          "data": {
            "text/plain": [
              "364"
            ]
          },
          "execution_count": 49,
          "metadata": {},
          "output_type": "execute_result"
        }
      ],
      "source": [
        "# The maximum number of user-article interactions by any 1 user is 364.\n",
        "df.groupby('email')['article_id'].count().max()"
      ]
    },
    {
      "cell_type": "markdown",
      "metadata": {
        "id": "QKx8DDxb611V"
      },
      "source": [
        "`2.` Explore and remove duplicate articles from the **df_content** dataframe.  "
      ]
    },
    {
      "cell_type": "code",
      "execution_count": null,
      "metadata": {
        "id": "NiSyMnj6611W",
        "outputId": "08327f55-ddb3-480d-bc84-9ad56af20952"
      },
      "outputs": [
        {
          "data": {
            "text/plain": [
              "5"
            ]
          },
          "execution_count": 50,
          "metadata": {},
          "output_type": "execute_result"
        }
      ],
      "source": [
        "# Find and explore duplicate articles\n",
        "df_content.article_id.duplicated().sum()"
      ]
    },
    {
      "cell_type": "code",
      "execution_count": null,
      "metadata": {
        "id": "fV6ziEva611W",
        "outputId": "1be4dc1d-0d2d-4c71-d54a-394b1de63121"
      },
      "outputs": [
        {
          "data": {
            "text/html": [
              "<div>\n",
              "<style scoped>\n",
              "    .dataframe tbody tr th:only-of-type {\n",
              "        vertical-align: middle;\n",
              "    }\n",
              "\n",
              "    .dataframe tbody tr th {\n",
              "        vertical-align: top;\n",
              "    }\n",
              "\n",
              "    .dataframe thead th {\n",
              "        text-align: right;\n",
              "    }\n",
              "</style>\n",
              "<table border=\"1\" class=\"dataframe\">\n",
              "  <thead>\n",
              "    <tr style=\"text-align: right;\">\n",
              "      <th></th>\n",
              "      <th>doc_body</th>\n",
              "      <th>doc_description</th>\n",
              "      <th>doc_full_name</th>\n",
              "      <th>doc_status</th>\n",
              "      <th>article_id</th>\n",
              "    </tr>\n",
              "  </thead>\n",
              "  <tbody>\n",
              "    <tr>\n",
              "      <th>50</th>\n",
              "      <td>Follow Sign in / Sign up Home About Insight Da...</td>\n",
              "      <td>Community Detection at Scale</td>\n",
              "      <td>Graph-based machine learning</td>\n",
              "      <td>Live</td>\n",
              "      <td>50</td>\n",
              "    </tr>\n",
              "    <tr>\n",
              "      <th>221</th>\n",
              "      <td>* United States\\r\\n\\r\\nIBM® * Site map\\r\\n\\r\\n...</td>\n",
              "      <td>When used to make sense of huge amounts of con...</td>\n",
              "      <td>How smart catalogs can turn the big data flood...</td>\n",
              "      <td>Live</td>\n",
              "      <td>221</td>\n",
              "    </tr>\n",
              "    <tr>\n",
              "      <th>232</th>\n",
              "      <td>Homepage Follow Sign in Get started Homepage *...</td>\n",
              "      <td>If you are like most data scientists, you are ...</td>\n",
              "      <td>Self-service data preparation with IBM Data Re...</td>\n",
              "      <td>Live</td>\n",
              "      <td>232</td>\n",
              "    </tr>\n",
              "    <tr>\n",
              "      <th>365</th>\n",
              "      <td>Follow Sign in / Sign up Home About Insight Da...</td>\n",
              "      <td>During the seven-week Insight Data Engineering...</td>\n",
              "      <td>Graph-based machine learning</td>\n",
              "      <td>Live</td>\n",
              "      <td>50</td>\n",
              "    </tr>\n",
              "    <tr>\n",
              "      <th>399</th>\n",
              "      <td>Homepage Follow Sign in Get started * Home\\r\\n...</td>\n",
              "      <td>Today’s world of data science leverages data f...</td>\n",
              "      <td>Using Apache Spark as a parallel processing fr...</td>\n",
              "      <td>Live</td>\n",
              "      <td>398</td>\n",
              "    </tr>\n",
              "    <tr>\n",
              "      <th>578</th>\n",
              "      <td>This video shows you how to construct queries ...</td>\n",
              "      <td>This video shows you how to construct queries ...</td>\n",
              "      <td>Use the Primary Index</td>\n",
              "      <td>Live</td>\n",
              "      <td>577</td>\n",
              "    </tr>\n",
              "    <tr>\n",
              "      <th>692</th>\n",
              "      <td>Homepage Follow Sign in / Sign up Homepage * H...</td>\n",
              "      <td>One of the earliest documented catalogs was co...</td>\n",
              "      <td>How smart catalogs can turn the big data flood...</td>\n",
              "      <td>Live</td>\n",
              "      <td>221</td>\n",
              "    </tr>\n",
              "    <tr>\n",
              "      <th>761</th>\n",
              "      <td>Homepage Follow Sign in Get started Homepage *...</td>\n",
              "      <td>Today’s world of data science leverages data f...</td>\n",
              "      <td>Using Apache Spark as a parallel processing fr...</td>\n",
              "      <td>Live</td>\n",
              "      <td>398</td>\n",
              "    </tr>\n",
              "    <tr>\n",
              "      <th>970</th>\n",
              "      <td>This video shows you how to construct queries ...</td>\n",
              "      <td>This video shows you how to construct queries ...</td>\n",
              "      <td>Use the Primary Index</td>\n",
              "      <td>Live</td>\n",
              "      <td>577</td>\n",
              "    </tr>\n",
              "    <tr>\n",
              "      <th>971</th>\n",
              "      <td>Homepage Follow Sign in Get started * Home\\r\\n...</td>\n",
              "      <td>If you are like most data scientists, you are ...</td>\n",
              "      <td>Self-service data preparation with IBM Data Re...</td>\n",
              "      <td>Live</td>\n",
              "      <td>232</td>\n",
              "    </tr>\n",
              "  </tbody>\n",
              "</table>\n",
              "</div>"
            ],
            "text/plain": [
              "                                              doc_body  \\\n",
              "50   Follow Sign in / Sign up Home About Insight Da...   \n",
              "221  * United States\\r\\n\\r\\nIBM® * Site map\\r\\n\\r\\n...   \n",
              "232  Homepage Follow Sign in Get started Homepage *...   \n",
              "365  Follow Sign in / Sign up Home About Insight Da...   \n",
              "399  Homepage Follow Sign in Get started * Home\\r\\n...   \n",
              "578  This video shows you how to construct queries ...   \n",
              "692  Homepage Follow Sign in / Sign up Homepage * H...   \n",
              "761  Homepage Follow Sign in Get started Homepage *...   \n",
              "970  This video shows you how to construct queries ...   \n",
              "971  Homepage Follow Sign in Get started * Home\\r\\n...   \n",
              "\n",
              "                                       doc_description  \\\n",
              "50                        Community Detection at Scale   \n",
              "221  When used to make sense of huge amounts of con...   \n",
              "232  If you are like most data scientists, you are ...   \n",
              "365  During the seven-week Insight Data Engineering...   \n",
              "399  Today’s world of data science leverages data f...   \n",
              "578  This video shows you how to construct queries ...   \n",
              "692  One of the earliest documented catalogs was co...   \n",
              "761  Today’s world of data science leverages data f...   \n",
              "970  This video shows you how to construct queries ...   \n",
              "971  If you are like most data scientists, you are ...   \n",
              "\n",
              "                                         doc_full_name doc_status  article_id  \n",
              "50                        Graph-based machine learning       Live          50  \n",
              "221  How smart catalogs can turn the big data flood...       Live         221  \n",
              "232  Self-service data preparation with IBM Data Re...       Live         232  \n",
              "365                       Graph-based machine learning       Live          50  \n",
              "399  Using Apache Spark as a parallel processing fr...       Live         398  \n",
              "578                              Use the Primary Index       Live         577  \n",
              "692  How smart catalogs can turn the big data flood...       Live         221  \n",
              "761  Using Apache Spark as a parallel processing fr...       Live         398  \n",
              "970                              Use the Primary Index       Live         577  \n",
              "971  Self-service data preparation with IBM Data Re...       Live         232  "
            ]
          },
          "execution_count": 51,
          "metadata": {},
          "output_type": "execute_result"
        }
      ],
      "source": [
        "dupids = df_content['article_id']\n",
        "df_content[dupids.isin(dupids[dupids.duplicated()])]"
      ]
    },
    {
      "cell_type": "code",
      "execution_count": null,
      "metadata": {
        "id": "n_tRedD5611W"
      },
      "outputs": [],
      "source": [
        "# Remove any rows that have the same article_id - only keep the first\n",
        "df_content.drop_duplicates(subset=['article_id'], keep='first', inplace=True)"
      ]
    },
    {
      "cell_type": "markdown",
      "metadata": {
        "id": "KNg_L8ep611X"
      },
      "source": [
        "`3.` Use the cells below to find:\n",
        "\n",
        "**a.** The number of unique articles that have an interaction with a user.  \n",
        "**b.** The number of unique articles in the dataset (whether they have any interactions or not).<br>\n",
        "**c.** The number of unique users in the dataset. (excluding null values) <br>\n",
        "**d.** The number of user-article interactions in the dataset."
      ]
    },
    {
      "cell_type": "code",
      "execution_count": null,
      "metadata": {
        "id": "L9Jdr3sR611X",
        "outputId": "6ea06268-f592-4ade-a624-b619837d4287"
      },
      "outputs": [
        {
          "data": {
            "text/plain": [
              "714"
            ]
          },
          "execution_count": 53,
          "metadata": {},
          "output_type": "execute_result"
        }
      ],
      "source": [
        "#a. The number of unique articles that have an interaction with a user.\n",
        "df.article_id.nunique()"
      ]
    },
    {
      "cell_type": "code",
      "execution_count": null,
      "metadata": {
        "id": "rL1Vciam611X",
        "outputId": "8e7be6d7-8c8c-4325-b08d-7c18be9836fa"
      },
      "outputs": [
        {
          "data": {
            "text/plain": [
              "1051"
            ]
          },
          "execution_count": 54,
          "metadata": {},
          "output_type": "execute_result"
        }
      ],
      "source": [
        "#b. The number of unique articles in the dataset (whether they have any interactions or not).\n",
        "df_content.article_id.nunique()"
      ]
    },
    {
      "cell_type": "code",
      "execution_count": null,
      "metadata": {
        "id": "CNyq6fep611Y",
        "outputId": "150853d1-4d34-4f9d-fe48-b69e3ba17b85"
      },
      "outputs": [
        {
          "data": {
            "text/plain": [
              "5148"
            ]
          },
          "execution_count": 55,
          "metadata": {},
          "output_type": "execute_result"
        }
      ],
      "source": [
        "#c. The number of unique users in the dataset. (excluding null values)\n",
        "df.email.nunique()"
      ]
    },
    {
      "cell_type": "code",
      "execution_count": null,
      "metadata": {
        "id": "V7vnP5OG611Y",
        "outputId": "55a10ff6-f475-46d9-bb33-cf7745091d22"
      },
      "outputs": [
        {
          "data": {
            "text/plain": [
              "45993"
            ]
          },
          "execution_count": 56,
          "metadata": {},
          "output_type": "execute_result"
        }
      ],
      "source": [
        "#d. The number of user-article interactions in the dataset.\n",
        "df.shape[0]"
      ]
    },
    {
      "cell_type": "code",
      "execution_count": null,
      "metadata": {
        "id": "UtL4xLT6611Y"
      },
      "outputs": [],
      "source": [
        "unique_articles = df.article_id.nunique() # The number of unique articles that have at least one interaction\n",
        "total_articles =  df_content.article_id.nunique() # The number of unique articles on the IBM platform\n",
        "unique_users = df.email.nunique() # The number of unique users\n",
        "user_article_interactions = df.shape[0] # The number of user-article interactions"
      ]
    },
    {
      "cell_type": "markdown",
      "metadata": {
        "id": "reMHUSpn611Y"
      },
      "source": [
        "`4.` Use the cells below to find the most viewed **article_id**, as well as how often it was viewed.  After talking to the company leaders, the `email_mapper` function was deemed a reasonable way to map users to ids.  There were a small number of null values, and it was found that all of these null values likely belonged to a single user (which is how they are stored using the function below)."
      ]
    },
    {
      "cell_type": "code",
      "execution_count": null,
      "metadata": {
        "id": "tJwDC7Vo611Z",
        "outputId": "3e40ef55-ffaf-42ba-8a94-91d2538304d1"
      },
      "outputs": [
        {
          "data": {
            "text/plain": [
              "1429.0    937\n",
              "1330.0    927\n",
              "1431.0    671\n",
              "1427.0    643\n",
              "1364.0    627\n",
              "Name: article_id, dtype: int64"
            ]
          },
          "execution_count": 58,
          "metadata": {},
          "output_type": "execute_result"
        }
      ],
      "source": [
        "# Top viewed arti\n",
        "df.article_id.value_counts().head()"
      ]
    },
    {
      "cell_type": "code",
      "execution_count": null,
      "metadata": {
        "id": "hlYk9Jt2611Z"
      },
      "outputs": [],
      "source": [
        "most_viewed_article_id = str(df.article_id.value_counts().index[0]) # The most viewed article in the dataset as a string with one value following the decimal \n",
        "max_views = df.article_id.value_counts().iloc[0]# The most viewed article in the dataset was viewed how many times?"
      ]
    },
    {
      "cell_type": "code",
      "execution_count": null,
      "metadata": {
        "id": "S7wJ0vjl611Z",
        "outputId": "450df266-14e0-4e7a-df13-ff0963e940af"
      },
      "outputs": [
        {
          "data": {
            "text/html": [
              "<div>\n",
              "<style scoped>\n",
              "    .dataframe tbody tr th:only-of-type {\n",
              "        vertical-align: middle;\n",
              "    }\n",
              "\n",
              "    .dataframe tbody tr th {\n",
              "        vertical-align: top;\n",
              "    }\n",
              "\n",
              "    .dataframe thead th {\n",
              "        text-align: right;\n",
              "    }\n",
              "</style>\n",
              "<table border=\"1\" class=\"dataframe\">\n",
              "  <thead>\n",
              "    <tr style=\"text-align: right;\">\n",
              "      <th></th>\n",
              "      <th>article_id</th>\n",
              "      <th>title</th>\n",
              "      <th>user_id</th>\n",
              "    </tr>\n",
              "  </thead>\n",
              "  <tbody>\n",
              "    <tr>\n",
              "      <th>0</th>\n",
              "      <td>1430.0</td>\n",
              "      <td>using pixiedust for fast, flexible, and easier...</td>\n",
              "      <td>1</td>\n",
              "    </tr>\n",
              "    <tr>\n",
              "      <th>1</th>\n",
              "      <td>1314.0</td>\n",
              "      <td>healthcare python streaming application demo</td>\n",
              "      <td>2</td>\n",
              "    </tr>\n",
              "    <tr>\n",
              "      <th>2</th>\n",
              "      <td>1429.0</td>\n",
              "      <td>use deep learning for image classification</td>\n",
              "      <td>3</td>\n",
              "    </tr>\n",
              "    <tr>\n",
              "      <th>3</th>\n",
              "      <td>1338.0</td>\n",
              "      <td>ml optimization using cognitive assistant</td>\n",
              "      <td>4</td>\n",
              "    </tr>\n",
              "    <tr>\n",
              "      <th>4</th>\n",
              "      <td>1276.0</td>\n",
              "      <td>deploy your python model as a restful api</td>\n",
              "      <td>5</td>\n",
              "    </tr>\n",
              "  </tbody>\n",
              "</table>\n",
              "</div>"
            ],
            "text/plain": [
              "   article_id                                              title  user_id\n",
              "0      1430.0  using pixiedust for fast, flexible, and easier...        1\n",
              "1      1314.0       healthcare python streaming application demo        2\n",
              "2      1429.0         use deep learning for image classification        3\n",
              "3      1338.0          ml optimization using cognitive assistant        4\n",
              "4      1276.0          deploy your python model as a restful api        5"
            ]
          },
          "execution_count": 60,
          "metadata": {},
          "output_type": "execute_result"
        }
      ],
      "source": [
        "## No need to change the code here - this will be helpful for later parts of the notebook\n",
        "# Run this cell to map the user email to a user_id column and remove the email column\n",
        "\n",
        "def email_mapper():\n",
        "    coded_dict = dict()\n",
        "    cter = 1\n",
        "    email_encoded = []\n",
        "    \n",
        "    for val in df['email']:\n",
        "        if val not in coded_dict:\n",
        "            coded_dict[val] = cter\n",
        "            cter+=1\n",
        "        \n",
        "        email_encoded.append(coded_dict[val])\n",
        "    return email_encoded\n",
        "\n",
        "email_encoded = email_mapper()\n",
        "del df['email']\n",
        "df['user_id'] = email_encoded\n",
        "\n",
        "# show header\n",
        "df.head()"
      ]
    },
    {
      "cell_type": "code",
      "execution_count": null,
      "metadata": {
        "id": "2xxL7KDM611Z",
        "outputId": "30aab646-624b-4269-d9d7-34dc06f87e1b"
      },
      "outputs": [
        {
          "name": "stdout",
          "output_type": "stream",
          "text": [
            "It looks like you have everything right here! Nice job!\n"
          ]
        }
      ],
      "source": [
        "## If you stored all your results in the variable names above, \n",
        "## you shouldn't need to change anything in this cell\n",
        "\n",
        "sol_1_dict = {\n",
        "    '`50% of individuals have _____ or fewer interactions.`': median_val,\n",
        "    '`The total number of user-article interactions in the dataset is ______.`': user_article_interactions,\n",
        "    '`The maximum number of user-article interactions by any 1 user is ______.`': max_views_by_user,\n",
        "    '`The most viewed article in the dataset was viewed _____ times.`': max_views,\n",
        "    '`The article_id of the most viewed article is ______.`': most_viewed_article_id,\n",
        "    '`The number of unique articles that have at least 1 rating ______.`': unique_articles,\n",
        "    '`The number of unique users in the dataset is ______`': unique_users,\n",
        "    '`The number of unique articles on the IBM platform`': total_articles\n",
        "}\n",
        "\n",
        "# Test your dictionary against the solution\n",
        "t.sol_1_test(sol_1_dict)"
      ]
    },
    {
      "cell_type": "markdown",
      "metadata": {
        "id": "OXqwOr1W611a"
      },
      "source": [
        "### <a class=\"anchor\" id=\"Rank\">Part II: Rank-Based Recommendations</a>\n",
        "\n",
        "Unlike in the earlier lessons, we don't actually have ratings for whether a user liked an article or not.  We only know that a user has interacted with an article.  In these cases, the popularity of an article can really only be based on how often an article was interacted with.\n",
        "\n",
        "`1.` Fill in the function below to return the **n** top articles ordered with most interactions as the top. Test your function using the tests below."
      ]
    },
    {
      "cell_type": "code",
      "execution_count": null,
      "metadata": {
        "id": "t3L5KI0f611a"
      },
      "outputs": [],
      "source": [
        "def get_top_articles(n, df=df):\n",
        "    '''\n",
        "    INPUT:\n",
        "    n - (int) the number of top articles to return\n",
        "    df - (pandas dataframe) df as defined at the top of the notebook \n",
        "    \n",
        "    OUTPUT:\n",
        "    top_articles - (list) A list of the top 'n' article titles \n",
        "    \n",
        "    '''\n",
        "    top_articles = df['title'].value_counts().index.tolist()[:n]\n",
        "    top_articles = [str(i) for i in top_articles]\n",
        "    \n",
        "    return top_articles # Return the top article titles from df (not df_content)\n",
        "\n",
        "def get_top_article_ids(n, df=df):\n",
        "    '''\n",
        "    INPUT:\n",
        "    n - (int) the number of top articles to return\n",
        "    df - (pandas dataframe) df as defined at the top of the notebook \n",
        "    \n",
        "    OUTPUT:\n",
        "    top_articles - (list) A list of the top 'n' article titles \n",
        "    \n",
        "    '''\n",
        "    top_articles = df['article_id'].value_counts().index.tolist()[:n]\n",
        "    top_articles = [str(i) for i in top_articles]\n",
        " \n",
        "    return top_articles # Return the top article ids"
      ]
    },
    {
      "cell_type": "code",
      "execution_count": null,
      "metadata": {
        "id": "h3vagcK5611a",
        "outputId": "0dbea8d9-f488-4a76-b665-12418c4537ff"
      },
      "outputs": [
        {
          "name": "stdout",
          "output_type": "stream",
          "text": [
            "['use deep learning for image classification', 'insights from new york car accident reports', 'visualize car data with brunel', 'use xgboost, scikit-learn & ibm watson machine learning apis', 'predicting churn with the spss random tree algorithm', 'healthcare python streaming application demo', 'finding optimal locations of new store using decision optimization', 'apache spark lab, part 1: basic concepts', 'analyze energy consumption in buildings', 'gosales transactions for logistic regression model']\n",
            "['1429.0', '1330.0', '1431.0', '1427.0', '1364.0', '1314.0', '1293.0', '1170.0', '1162.0', '1304.0']\n"
          ]
        }
      ],
      "source": [
        "print(get_top_articles(10))\n",
        "print(get_top_article_ids(10))"
      ]
    },
    {
      "cell_type": "code",
      "execution_count": null,
      "metadata": {
        "id": "OFR0aVJI611a",
        "outputId": "3a7eac47-9045-4b90-cc5b-db0018e3f320"
      },
      "outputs": [
        {
          "name": "stdout",
          "output_type": "stream",
          "text": [
            "Your top_5 looks like the solution list! Nice job.\n",
            "Your top_10 looks like the solution list! Nice job.\n",
            "Your top_20 looks like the solution list! Nice job.\n"
          ]
        }
      ],
      "source": [
        "# Test your function by returning the top 5, 10, and 20 articles\n",
        "top_5 = get_top_articles(5)\n",
        "top_10 = get_top_articles(10)\n",
        "top_20 = get_top_articles(20)\n",
        "\n",
        "# Test each of your three lists from above\n",
        "t.sol_2_test(get_top_articles)"
      ]
    },
    {
      "cell_type": "markdown",
      "metadata": {
        "id": "MmchgySq611a"
      },
      "source": [
        "### <a class=\"anchor\" id=\"User-User\">Part III: User-User Based Collaborative Filtering</a>\n",
        "\n",
        "\n",
        "`1.` Use the function below to reformat the **df** dataframe to be shaped with users as the rows and articles as the columns.  \n",
        "\n",
        "* Each **user** should only appear in each **row** once.\n",
        "\n",
        "\n",
        "* Each **article** should only show up in one **column**.  \n",
        "\n",
        "\n",
        "* **If a user has interacted with an article, then place a 1 where the user-row meets for that article-column**.  It does not matter how many times a user has interacted with the article, all entries where a user has interacted with an article should be a 1.  \n",
        "\n",
        "\n",
        "* **If a user has not interacted with an item, then place a zero where the user-row meets for that article-column**. \n",
        "\n",
        "Use the tests to make sure the basic structure of your matrix matches what is expected by the solution."
      ]
    },
    {
      "cell_type": "code",
      "execution_count": null,
      "metadata": {
        "id": "jzykRoVg611a"
      },
      "outputs": [],
      "source": [
        "# create the user-article matrix with 1's and 0's\n",
        "\n",
        "def create_user_item_matrix(df):\n",
        "    '''\n",
        "    INPUT:\n",
        "    df - pandas dataframe with article_id, title, user_id columns\n",
        "    \n",
        "    OUTPUT:\n",
        "    user_item - user item matrix \n",
        "    \n",
        "    Description:\n",
        "    Return a matrix with user ids as rows and article ids on the columns with 1 values where a user interacted with \n",
        "    an article and a 0 otherwise\n",
        "    '''\n",
        "    df_count = df.groupby(['user_id', 'article_id']).count().reset_index()\n",
        "    user_item = df_count.pivot_table(values='title', index='user_id', columns='article_id')\n",
        "    user_item.replace(np.nan, 0, inplace=True)\n",
        "    user_item=user_item.applymap(lambda x: 1 if x > 0 else x)\n",
        "\n",
        "\n",
        "    return user_item # return the user_item matrix \n",
        "\n",
        "user_item = create_user_item_matrix(df)"
      ]
    },
    {
      "cell_type": "code",
      "execution_count": null,
      "metadata": {
        "id": "LJ0khqk2611b",
        "outputId": "ed0aa501-a25e-456f-f689-8738e03f771e"
      },
      "outputs": [
        {
          "name": "stdout",
          "output_type": "stream",
          "text": [
            "You have passed our quick tests!  Please proceed!\n"
          ]
        }
      ],
      "source": [
        "## Tests: You should just need to run this cell.  Don't change the code.\n",
        "assert user_item.shape[0] == 5149, \"Oops!  The number of users in the user-article matrix doesn't look right.\"\n",
        "assert user_item.shape[1] == 714, \"Oops!  The number of articles in the user-article matrix doesn't look right.\"\n",
        "assert user_item.sum(axis=1)[1] == 36, \"Oops!  The number of articles seen by user 1 doesn't look right.\"\n",
        "print(\"You have passed our quick tests!  Please proceed!\")"
      ]
    },
    {
      "cell_type": "markdown",
      "metadata": {
        "id": "32pFIGL-611b"
      },
      "source": [
        "`2.` Complete the function below which should take a user_id and provide an ordered list of the most similar users to that user (from most similar to least similar).  The returned result should not contain the provided user_id, as we know that each user is similar to him/herself. Because the results for each user here are binary, it (perhaps) makes sense to compute similarity as the dot product of two users. \n",
        "\n",
        "Use the tests to test your function."
      ]
    },
    {
      "cell_type": "code",
      "execution_count": null,
      "metadata": {
        "id": "1v1LyO4V611b"
      },
      "outputs": [],
      "source": [
        "def find_similar_users(user_id, user_item=user_item):\n",
        "    '''\n",
        "    INPUT:\n",
        "    user_id - (int) a user_id\n",
        "    user_item - (pandas dataframe) matrix of users by articles: \n",
        "                1's when a user has interacted with an article, 0 otherwise\n",
        "    \n",
        "    OUTPUT:\n",
        "    similar_users - (list) an ordered list where the closest users (largest dot product users)\n",
        "                    are listed first\n",
        "    \n",
        "    Description:\n",
        "    Computes the similarity of every pair of users based on the dot product\n",
        "    Returns an ordered\n",
        "    \n",
        "    '''\n",
        "    # compute similarity of each user to the provided user\n",
        "    comp_users = user_item.dot(np.transpose(user_item))\n",
        "    # sort by similarity\n",
        "    sim_users = comp_users[user_id].sort_values(ascending = False)\n",
        "    # create list of just the ids\n",
        "    most_similar_users = sim_users.index.tolist()\n",
        "    # remove the own user's id\n",
        "    most_similar_users.remove(user_id)\n",
        "    return most_similar_users # return a list of the users in order from most to least similar\n",
        "        "
      ]
    },
    {
      "cell_type": "code",
      "execution_count": null,
      "metadata": {
        "id": "WPS-ZnWo611b",
        "outputId": "59751239-038c-4838-8f9d-c6699521fc03"
      },
      "outputs": [
        {
          "name": "stdout",
          "output_type": "stream",
          "text": [
            "The 10 most similar users to user 1 are: [3933, 23, 3782, 203, 4459, 131, 3870, 46, 4201, 5041]\n",
            "The 5 most similar users to user 3933 are: [1, 23, 3782, 4459, 203]\n",
            "The 3 most similar users to user 46 are: [4201, 23, 3782]\n"
          ]
        }
      ],
      "source": [
        "# Do a spot check of your function\n",
        "print(\"The 10 most similar users to user 1 are: {}\".format(find_similar_users(1)[:10]))\n",
        "print(\"The 5 most similar users to user 3933 are: {}\".format(find_similar_users(3933)[:5]))\n",
        "print(\"The 3 most similar users to user 46 are: {}\".format(find_similar_users(46)[:3]))"
      ]
    },
    {
      "cell_type": "markdown",
      "metadata": {
        "id": "zg5B80d4611b"
      },
      "source": [
        "`3.` Now that you have a function that provides the most similar users to each user, you will want to use these users to find articles you can recommend.  Complete the functions below to return the articles you would recommend to each user. "
      ]
    },
    {
      "cell_type": "code",
      "execution_count": null,
      "metadata": {
        "id": "fCRohpf2611b"
      },
      "outputs": [],
      "source": [
        "def get_article_names(article_ids, df=df):\n",
        "    '''\n",
        "    INPUT:\n",
        "    article_ids - (list) a list of article ids\n",
        "    df - (pandas dataframe) df as defined at the top of the notebook\n",
        "    \n",
        "    OUTPUT:\n",
        "    article_names - (list) a list of article names associated with the list of article ids \n",
        "                    (this is identified by the title column)\n",
        "    '''\n",
        "    article_names = []\n",
        "\n",
        "    for i in article_ids:\n",
        "        article_names.append(df[df['article_id']==float(i)].max()['title'])\n",
        " \n",
        "    return article_names # Return the article names associated with list of article ids\n",
        "\n",
        "\n",
        "def get_user_articles(user_id, user_item=user_item):\n",
        "    '''\n",
        "    INPUT:\n",
        "    user_id - (int) a user id\n",
        "    user_item - (pandas dataframe) matrix of users by articles: \n",
        "                1's when a user has interacted with an article, 0 otherwise\n",
        "    \n",
        "    OUTPUT:\n",
        "    article_ids - (list) a list of the article ids seen by the user\n",
        "    article_names - (list) a list of article names associated with the list of article ids \n",
        "                    (this is identified by the doc_full_name column in df_content)\n",
        "    \n",
        "    Description:\n",
        "    Provides a list of the article_ids and article titles that have been seen by a user\n",
        "    '''\n",
        "    article_ids = user_item.loc[user_id][user_item.loc[user_id] == 1].index.astype('str')\n",
        "    article_names = []\n",
        "    for i in article_ids:\n",
        "        article_names.append(df[df['article_id']==float(i)].max()['title'])\n",
        "    return article_ids, article_names # return the ids and names\n",
        "\n",
        "\n",
        "def user_user_recs(user_id, m=10):\n",
        "    '''\n",
        "    INPUT:\n",
        "    user_id - (int) a user id\n",
        "    m - (int) the number of recommendations you want for the user\n",
        "    \n",
        "    OUTPUT:\n",
        "    recs - (list) a list of recommendations for the user\n",
        "    \n",
        "    Description:\n",
        "    Loops through the users based on closeness to the input user_id\n",
        "    For each user - finds articles the user hasn't seen before and provides them as recs\n",
        "    Does this until m recommendations are found\n",
        "    \n",
        "    Notes:\n",
        "    Users who are the same closeness are chosen arbitrarily as the 'next' user\n",
        "    \n",
        "    For the user where the number of recommended articles starts below m \n",
        "    and ends exceeding m, the last items are chosen arbitrarily\n",
        "    \n",
        "    '''\n",
        "    recs = np.array([]) \n",
        "    user_articles_seen = get_user_articles(user_id)[0]\n",
        "    closest_users = find_similar_users(user_id)\n",
        "    for oas in closest_users:\n",
        "        others_articles_seen = get_user_articles(oas)[0]\n",
        "        new_recs = np.setdiff1d(others_articles_seen, user_articles_seen, assume_unique=True)\n",
        "        recs = np.unique(np.concatenate([new_recs, recs], axis = 0)) \n",
        "        if len(recs) > m-1:\n",
        "            break\n",
        "            \n",
        "    recs = recs[:m]\n",
        "    recs.tolist()\n",
        "    \n",
        "    return recs # return your recommendations for this user_id    "
      ]
    },
    {
      "cell_type": "code",
      "execution_count": null,
      "metadata": {
        "id": "5Ifm7wmi611c",
        "outputId": "17c633b4-0442-4910-80fd-c1f2a8a15cb0"
      },
      "outputs": [
        {
          "data": {
            "text/plain": [
              "['recommender systems: approaches & algorithms',\n",
              " '1448    i ranked every intro to data science course on...\\nName: title, dtype: object',\n",
              " 'data tidying in data science experience',\n",
              " 'a tensorflow regression model to predict house values',\n",
              " '520    using notebooks with pixiedust for fast, flexi...\\nName: title, dtype: object',\n",
              " 'airbnb data for analytics: mallorca reviews',\n",
              " 'airbnb data for analytics: vancouver listings',\n",
              " 'analyze facebook data using ibm watson and watson studio',\n",
              " 'analyze accident reports on amazon emr spark',\n",
              " 'analyze energy consumption in buildings']"
            ]
          },
          "execution_count": 76,
          "metadata": {},
          "output_type": "execute_result"
        }
      ],
      "source": [
        "# Check Results\n",
        "get_article_names(user_user_recs(1, 10)) # Return 10 recommendations for user 1"
      ]
    },
    {
      "cell_type": "code",
      "execution_count": null,
      "metadata": {
        "id": "m9BQpGJz611c",
        "outputId": "12f41784-f366-4d7f-bad3-490208e2cf27"
      },
      "outputs": [
        {
          "name": "stdout",
          "output_type": "stream",
          "text": [
            "If this is all you see, you passed all of our tests!  Nice job!\n"
          ]
        }
      ],
      "source": [
        "# Test your functions here - No need to change this code - just run this cell\n",
        "assert set(get_article_names(['1024.0', '1176.0', '1305.0', '1314.0', '1422.0', '1427.0'])) == set(['using deep learning to reconstruct high-resolution audio', 'build a python app on the streaming analytics service', 'gosales transactions for naive bayes model', 'healthcare python streaming application demo', 'use r dataframes & ibm watson natural language understanding', 'use xgboost, scikit-learn & ibm watson machine learning apis']), \"Oops! Your the get_article_names function doesn't work quite how we expect.\"\n",
        "assert set(get_article_names(['1320.0', '232.0', '844.0'])) == set(['housing (2015): united states demographic measures','self-service data preparation with ibm data refinery','use the cloudant-spark connector in python notebook']), \"Oops! Your the get_article_names function doesn't work quite how we expect.\"\n",
        "assert set(get_user_articles(20)[0]) == set(['1320.0', '232.0', '844.0'])\n",
        "assert set(get_user_articles(20)[1]) == set(['housing (2015): united states demographic measures', 'self-service data preparation with ibm data refinery','use the cloudant-spark connector in python notebook'])\n",
        "assert set(get_user_articles(2)[0]) == set(['1024.0', '1176.0', '1305.0', '1314.0', '1422.0', '1427.0'])\n",
        "assert set(get_user_articles(2)[1]) == set(['using deep learning to reconstruct high-resolution audio', 'build a python app on the streaming analytics service', 'gosales transactions for naive bayes model', 'healthcare python streaming application demo', 'use r dataframes & ibm watson natural language understanding', 'use xgboost, scikit-learn & ibm watson machine learning apis'])\n",
        "print(\"If this is all you see, you passed all of our tests!  Nice job!\")"
      ]
    },
    {
      "cell_type": "markdown",
      "metadata": {
        "id": "PLJNAiH-611c"
      },
      "source": [
        "`4.` Now we are going to improve the consistency of the **user_user_recs** function from above.  \n",
        "\n",
        "* Instead of arbitrarily choosing when we obtain users who are all the same closeness to a given user - choose the users that have the most total article interactions before choosing those with fewer article interactions.\n",
        "\n",
        "\n",
        "* Instead of arbitrarily choosing articles from the user where the number of recommended articles starts below m and ends exceeding m, choose articles with the articles with the most total interactions before choosing those with fewer total interactions. This ranking should be  what would be obtained from the **top_articles** function you wrote earlier."
      ]
    },
    {
      "cell_type": "code",
      "execution_count": null,
      "metadata": {
        "id": "dATe-OEO611c"
      },
      "outputs": [],
      "source": [
        "def get_top_sorted_users(user_id, df=df, user_item=user_item):\n",
        "    '''\n",
        "    INPUT:\n",
        "    user_id - (int)\n",
        "    df - (pandas dataframe) df as defined at the top of the notebook \n",
        "    user_item - (pandas dataframe) matrix of users by articles: \n",
        "            1's when a user has interacted with an article, 0 otherwise\n",
        "    \n",
        "            \n",
        "    OUTPUT:\n",
        "    neighbors_df - (pandas dataframe) a dataframe with:\n",
        "                    neighbor_id - is a neighbor user_id\n",
        "                    similarity - measure of the similarity of each user to the provided user_id\n",
        "                    num_interactions - the number of articles viewed by the user - if a u\n",
        "                    \n",
        "    Other Details - sort the neighbors_df by the similarity and then by number of interactions where \n",
        "                    highest of each is higher in the dataframe\n",
        "     \n",
        "    '''\n",
        "    neighbors_df = pd.DataFrame(columns=['neighbor_id', 'similarity'])\n",
        "    neighbors_df['neighbor_id'] = user_item.index-1\n",
        "    dot_prod_users = user_item.dot(np.transpose(user_item))\n",
        "    neighbors_df['similarity'] = dot_prod_users[user_id]\n",
        "    interacts_df = df.user_id.value_counts().rename_axis('neighbor_id').reset_index(name='num_interactions')\n",
        "    neighbors_df = pd.merge(neighbors_df, interacts_df, on='neighbor_id', how='outer')\n",
        "    neighbors_df = neighbors_df.sort_values(by=['similarity', 'num_interactions'], ascending = False)\n",
        "    neighbors_df = neighbors_df.reset_index(drop=True)\n",
        "    neighbors_df = neighbors_df[neighbors_df.neighbor_id != user_id]\n",
        "    \n",
        "    return neighbors_df # Return the dataframe specified in the doc_string\n",
        "\n",
        "\n",
        "def user_user_recs_part2(user_id, m=10):\n",
        "    '''\n",
        "    INPUT:\n",
        "    user_id - (int) a user id\n",
        "    m - (int) the number of recommendations you want for the user\n",
        "    \n",
        "    OUTPUT:\n",
        "    recs - (list) a list of recommendations for the user by article id\n",
        "    rec_names - (list) a list of recommendations for the user by article title\n",
        "    \n",
        "    Description:\n",
        "    Loops through the users based on closeness to the input user_id\n",
        "    For each user - finds articles the user hasn't seen before and provides them as recs\n",
        "    Does this until m recommendations are found\n",
        "    \n",
        "    Notes:\n",
        "    * Choose the users that have the most total article interactions \n",
        "    before choosing those with fewer article interactions.\n",
        "\n",
        "    * Choose articles with the articles with the most total interactions \n",
        "    before choosing those with fewer total interactions. \n",
        "   \n",
        "    '''\n",
        "    recs = np.array([]) \n",
        "    user_articles_ids_seen, user_articles_names_seen = get_user_articles(user_id, user_item) #article ids seen by our user\n",
        "    closest_neighs = get_top_sorted_users(user_id, df, user_item).neighbor_id.tolist() # neighbour user ids closest to our user\n",
        "    for neighs in closest_neighs:\n",
        "        neigh_articles_ids_seen, neigh_articles_names_seen = get_user_articles(neighs, user_item) # articles seen by others like our user\n",
        "        new_recs = np.setdiff1d(neigh_articles_ids_seen, user_articles_ids_seen, assume_unique=True) #find those not seen by user\n",
        "        recs = np.unique(np.concatenate([new_recs, recs], axis = 0)) # concate arrays and only return unique values\n",
        "        if len(recs) > m-1:\n",
        "            break\n",
        "            \n",
        "    recs = recs[:m]\n",
        "    recs = recs.tolist()\n",
        "    \n",
        "    rec_names = get_article_names(recs, df=df)\n",
        "    return recs, rec_names"
      ]
    },
    {
      "cell_type": "code",
      "execution_count": null,
      "metadata": {
        "id": "iko4jZQj611c",
        "outputId": "def4bc54-71e7-4176-971c-178d56ce2dc9"
      },
      "outputs": [
        {
          "name": "stdout",
          "output_type": "stream",
          "text": [
            "The top 10 recommendations for user 20 are the following article ids:\n",
            "['1024.0', '1085.0', '109.0', '1150.0', '1151.0', '1152.0', '1153.0', '1154.0', '1157.0', '1160.0']\n",
            "\n",
            "The top 10 recommendations for user 20 are the following article names:\n",
            "['using deep learning to reconstruct high-resolution audio', 'airbnb data for analytics: chicago listings', 'tensorflow quick tips', 'airbnb data for analytics: venice calendar', 'airbnb data for analytics: venice listings', 'airbnb data for analytics: venice reviews', 'airbnb data for analytics: vienna calendar', 'airbnb data for analytics: vienna listings', 'airbnb data for analytics: washington d.c. listings', 'analyze accident reports on amazon emr spark']\n"
          ]
        }
      ],
      "source": [
        "# Quick spot check - don't change this code - just use it to test your functions\n",
        "rec_ids, rec_names = user_user_recs_part2(20, 10)\n",
        "print(\"The top 10 recommendations for user 20 are the following article ids:\")\n",
        "print(rec_ids)\n",
        "print()\n",
        "print(\"The top 10 recommendations for user 20 are the following article names:\")\n",
        "print(rec_names)"
      ]
    },
    {
      "cell_type": "markdown",
      "metadata": {
        "id": "PHQOaq0o611d"
      },
      "source": [
        "`5.` Use your functions from above to correctly fill in the solutions to the dictionary below.  Then test your dictionary against the solution.  Provide the code you need to answer each following the comments below."
      ]
    },
    {
      "cell_type": "code",
      "execution_count": null,
      "metadata": {
        "id": "mOJbAqxn611d"
      },
      "outputs": [],
      "source": [
        "### Tests with a dictionary of results\n",
        "\n",
        "user1_most_sim = get_top_sorted_users(1).iloc[0].neighbor_id# Find the user that is most similar to user 1 \n",
        "user131_10th_sim = get_top_sorted_users(131).iloc[9].neighbor_id# Find the 10th most similar user to user 131"
      ]
    },
    {
      "cell_type": "code",
      "execution_count": null,
      "metadata": {
        "id": "xviAu4YN611d",
        "outputId": "50cbb5f0-e4c5-4cb1-a5fe-e0c86c08d199"
      },
      "outputs": [
        {
          "name": "stdout",
          "output_type": "stream",
          "text": [
            "This all looks good!  Nice job!\n"
          ]
        }
      ],
      "source": [
        "## Dictionary Test Here\n",
        "sol_5_dict = {\n",
        "    'The user that is most similar to user 1.': user1_most_sim, \n",
        "    'The user that is the 10th most similar to user 131': user131_10th_sim,\n",
        "}\n",
        "\n",
        "t.sol_5_test(sol_5_dict)"
      ]
    },
    {
      "cell_type": "markdown",
      "metadata": {
        "id": "WcUrP4R-611d"
      },
      "source": [
        "`6.` If we were given a new user, which of the above functions would you be able to use to make recommendations?  Explain.  Can you think of a better way we might make recommendations?  Use the cell below to explain a better method for new users."
      ]
    },
    {
      "cell_type": "markdown",
      "metadata": {
        "id": "E6jv5ORg611d"
      },
      "source": [
        "For a new user, we should make recommendations using Rank Based Recommendations and the get top articles method. We would only propose the most popular articles because we don't know anything about the user or their interactions, so we can't identify who they are most like with analysis on similarity. Once we have more knowledge about the user, we may use a combination of three different recommendation techniques: Rank, Content, and Collaborative."
      ]
    },
    {
      "cell_type": "markdown",
      "metadata": {
        "id": "sj20eZLM611d"
      },
      "source": [
        "`7.` Using your existing functions, provide the top 10 recommended articles you would provide for the a new user below.  You can test your function against our thoughts to make sure we are all on the same page with how we might make a recommendation."
      ]
    },
    {
      "cell_type": "code",
      "execution_count": null,
      "metadata": {
        "id": "wEIVhpcN611d"
      },
      "outputs": [],
      "source": [
        "new_user = '0.0'\n",
        "\n",
        "# What would your recommendations be for this new user '0.0'?  As a new user, they have no observed articles.\n",
        "# Provide a list of the top 10 article ids you would give to \n",
        "new_user_recs = get_top_article_ids(10, df)\n"
      ]
    },
    {
      "cell_type": "code",
      "execution_count": null,
      "metadata": {
        "id": "A3BY5pSR611d",
        "outputId": "8ca18e87-1e8a-4a54-9bee-e41a32822b51"
      },
      "outputs": [
        {
          "name": "stdout",
          "output_type": "stream",
          "text": [
            "That's right!  Nice job!\n"
          ]
        }
      ],
      "source": [
        "assert set(new_user_recs) == set(['1314.0','1429.0','1293.0','1427.0','1162.0','1364.0','1304.0','1170.0','1431.0','1330.0']), \"Oops!  It makes sense that in this case we would want to recommend the most popular articles, because we don't know anything about these users.\"\n",
        "\n",
        "print(\"That's right!  Nice job!\")"
      ]
    },
    {
      "cell_type": "markdown",
      "metadata": {
        "id": "VT67pZ-2611e"
      },
      "source": [
        "### <a class=\"anchor\" id=\"Content-Recs\">Part IV: Content Based Recommendations (EXTRA - NOT REQUIRED)</a>\n",
        "\n",
        "Another method we might use to make recommendations is to perform a ranking of the highest ranked articles associated with some term.  You might consider content to be the **doc_body**, **doc_description**, or **doc_full_name**.  There isn't one way to create a content based recommendation, especially considering that each of these columns hold content related information.  \n",
        "\n",
        "`1.` Use the function body below to create a content based recommender.  Since there isn't one right answer for this recommendation tactic, no test functions are provided.  Feel free to change the function inputs if you decide you want to try a method that requires more input values.  The input values are currently set with one idea in mind that you may use to make content based recommendations.  One additional idea is that you might want to choose the most popular recommendations that meet your 'content criteria', but again, there is a lot of flexibility in how you might make these recommendations.\n",
        "\n",
        "### This part is NOT REQUIRED to pass this project.  However, you may choose to take this on as an extra way to show off your skills."
      ]
    },
    {
      "cell_type": "code",
      "execution_count": null,
      "metadata": {
        "collapsed": true,
        "id": "FZ_KS7LW611e"
      },
      "outputs": [],
      "source": [
        "#def make_content_recs():\n",
        "    '''\n",
        "    INPUT:\n",
        "    \n",
        "    OUTPUT:\n",
        "    \n",
        "    '''"
      ]
    },
    {
      "cell_type": "markdown",
      "metadata": {
        "id": "AtV2tR_B611e"
      },
      "source": [
        "`2.` Now that you have put together your content-based recommendation system, use the cell below to write a summary explaining how your content based recommender works.  Do you see any possible improvements that could be made to your function?  Is there anything novel about your content based recommender?\n",
        "\n",
        "### This part is NOT REQUIRED to pass this project.  However, you may choose to take this on as an extra way to show off your skills."
      ]
    },
    {
      "cell_type": "markdown",
      "metadata": {
        "id": "SAnaKY5U611e"
      },
      "source": [
        "**Write an explanation of your content based recommendation system here.**"
      ]
    },
    {
      "cell_type": "markdown",
      "metadata": {
        "id": "Mii8W7f_611e"
      },
      "source": [
        "`3.` Use your content-recommendation system to make recommendations for the below scenarios based on the comments.  Again no tests are provided here, because there isn't one right answer that could be used to find these content based recommendations.\n",
        "\n",
        "### This part is NOT REQUIRED to pass this project.  However, you may choose to take this on as an extra way to show off your skills."
      ]
    },
    {
      "cell_type": "code",
      "execution_count": null,
      "metadata": {
        "collapsed": true,
        "id": "PQ4GjILx611e"
      },
      "outputs": [],
      "source": [
        "# make recommendations for a brand new user\n",
        "\n",
        "\n",
        "# make a recommendations for a user who only has interacted with article id '1427.0'\n",
        "\n"
      ]
    },
    {
      "cell_type": "markdown",
      "metadata": {
        "id": "OMiXR6r9611e"
      },
      "source": [
        "### <a class=\"anchor\" id=\"Matrix-Fact\">Part V: Matrix Factorization</a>\n",
        "\n",
        "In this part of the notebook, you will build use matrix factorization to make article recommendations to the users on the IBM Watson Studio platform.\n",
        "\n",
        "`1.` You should have already created a **user_item** matrix above in **question 1** of **Part III** above.  This first question here will just require that you run the cells to get things set up for the rest of **Part V** of the notebook. "
      ]
    },
    {
      "cell_type": "code",
      "execution_count": null,
      "metadata": {
        "id": "5cH7sR7G611e"
      },
      "outputs": [],
      "source": [
        "# Load the matrix here\n",
        "user_item_matrix = pd.read_pickle('user_item_matrix.p')"
      ]
    },
    {
      "cell_type": "code",
      "execution_count": null,
      "metadata": {
        "id": "IBpKcklz611f",
        "outputId": "a3d4558c-31fc-4e25-9224-08229baf71e1"
      },
      "outputs": [
        {
          "data": {
            "text/html": [
              "<div>\n",
              "<style scoped>\n",
              "    .dataframe tbody tr th:only-of-type {\n",
              "        vertical-align: middle;\n",
              "    }\n",
              "\n",
              "    .dataframe tbody tr th {\n",
              "        vertical-align: top;\n",
              "    }\n",
              "\n",
              "    .dataframe thead th {\n",
              "        text-align: right;\n",
              "    }\n",
              "</style>\n",
              "<table border=\"1\" class=\"dataframe\">\n",
              "  <thead>\n",
              "    <tr style=\"text-align: right;\">\n",
              "      <th>article_id</th>\n",
              "      <th>0.0</th>\n",
              "      <th>100.0</th>\n",
              "      <th>1000.0</th>\n",
              "      <th>1004.0</th>\n",
              "      <th>1006.0</th>\n",
              "      <th>1008.0</th>\n",
              "      <th>101.0</th>\n",
              "      <th>1014.0</th>\n",
              "      <th>1015.0</th>\n",
              "      <th>1016.0</th>\n",
              "      <th>...</th>\n",
              "      <th>977.0</th>\n",
              "      <th>98.0</th>\n",
              "      <th>981.0</th>\n",
              "      <th>984.0</th>\n",
              "      <th>985.0</th>\n",
              "      <th>986.0</th>\n",
              "      <th>990.0</th>\n",
              "      <th>993.0</th>\n",
              "      <th>996.0</th>\n",
              "      <th>997.0</th>\n",
              "    </tr>\n",
              "    <tr>\n",
              "      <th>user_id</th>\n",
              "      <th></th>\n",
              "      <th></th>\n",
              "      <th></th>\n",
              "      <th></th>\n",
              "      <th></th>\n",
              "      <th></th>\n",
              "      <th></th>\n",
              "      <th></th>\n",
              "      <th></th>\n",
              "      <th></th>\n",
              "      <th></th>\n",
              "      <th></th>\n",
              "      <th></th>\n",
              "      <th></th>\n",
              "      <th></th>\n",
              "      <th></th>\n",
              "      <th></th>\n",
              "      <th></th>\n",
              "      <th></th>\n",
              "      <th></th>\n",
              "      <th></th>\n",
              "    </tr>\n",
              "  </thead>\n",
              "  <tbody>\n",
              "    <tr>\n",
              "      <th>1</th>\n",
              "      <td>0.0</td>\n",
              "      <td>0.0</td>\n",
              "      <td>0.0</td>\n",
              "      <td>0.0</td>\n",
              "      <td>0.0</td>\n",
              "      <td>0.0</td>\n",
              "      <td>0.0</td>\n",
              "      <td>0.0</td>\n",
              "      <td>0.0</td>\n",
              "      <td>0.0</td>\n",
              "      <td>...</td>\n",
              "      <td>0.0</td>\n",
              "      <td>0.0</td>\n",
              "      <td>1.0</td>\n",
              "      <td>0.0</td>\n",
              "      <td>0.0</td>\n",
              "      <td>0.0</td>\n",
              "      <td>0.0</td>\n",
              "      <td>0.0</td>\n",
              "      <td>0.0</td>\n",
              "      <td>0.0</td>\n",
              "    </tr>\n",
              "    <tr>\n",
              "      <th>2</th>\n",
              "      <td>0.0</td>\n",
              "      <td>0.0</td>\n",
              "      <td>0.0</td>\n",
              "      <td>0.0</td>\n",
              "      <td>0.0</td>\n",
              "      <td>0.0</td>\n",
              "      <td>0.0</td>\n",
              "      <td>0.0</td>\n",
              "      <td>0.0</td>\n",
              "      <td>0.0</td>\n",
              "      <td>...</td>\n",
              "      <td>0.0</td>\n",
              "      <td>0.0</td>\n",
              "      <td>0.0</td>\n",
              "      <td>0.0</td>\n",
              "      <td>0.0</td>\n",
              "      <td>0.0</td>\n",
              "      <td>0.0</td>\n",
              "      <td>0.0</td>\n",
              "      <td>0.0</td>\n",
              "      <td>0.0</td>\n",
              "    </tr>\n",
              "    <tr>\n",
              "      <th>3</th>\n",
              "      <td>0.0</td>\n",
              "      <td>0.0</td>\n",
              "      <td>0.0</td>\n",
              "      <td>0.0</td>\n",
              "      <td>0.0</td>\n",
              "      <td>0.0</td>\n",
              "      <td>0.0</td>\n",
              "      <td>0.0</td>\n",
              "      <td>0.0</td>\n",
              "      <td>0.0</td>\n",
              "      <td>...</td>\n",
              "      <td>1.0</td>\n",
              "      <td>0.0</td>\n",
              "      <td>0.0</td>\n",
              "      <td>0.0</td>\n",
              "      <td>0.0</td>\n",
              "      <td>0.0</td>\n",
              "      <td>0.0</td>\n",
              "      <td>0.0</td>\n",
              "      <td>0.0</td>\n",
              "      <td>0.0</td>\n",
              "    </tr>\n",
              "    <tr>\n",
              "      <th>4</th>\n",
              "      <td>0.0</td>\n",
              "      <td>0.0</td>\n",
              "      <td>0.0</td>\n",
              "      <td>0.0</td>\n",
              "      <td>0.0</td>\n",
              "      <td>0.0</td>\n",
              "      <td>0.0</td>\n",
              "      <td>0.0</td>\n",
              "      <td>0.0</td>\n",
              "      <td>0.0</td>\n",
              "      <td>...</td>\n",
              "      <td>0.0</td>\n",
              "      <td>0.0</td>\n",
              "      <td>0.0</td>\n",
              "      <td>0.0</td>\n",
              "      <td>0.0</td>\n",
              "      <td>0.0</td>\n",
              "      <td>0.0</td>\n",
              "      <td>0.0</td>\n",
              "      <td>0.0</td>\n",
              "      <td>0.0</td>\n",
              "    </tr>\n",
              "    <tr>\n",
              "      <th>5</th>\n",
              "      <td>0.0</td>\n",
              "      <td>0.0</td>\n",
              "      <td>0.0</td>\n",
              "      <td>0.0</td>\n",
              "      <td>0.0</td>\n",
              "      <td>0.0</td>\n",
              "      <td>0.0</td>\n",
              "      <td>0.0</td>\n",
              "      <td>0.0</td>\n",
              "      <td>0.0</td>\n",
              "      <td>...</td>\n",
              "      <td>0.0</td>\n",
              "      <td>0.0</td>\n",
              "      <td>0.0</td>\n",
              "      <td>0.0</td>\n",
              "      <td>0.0</td>\n",
              "      <td>0.0</td>\n",
              "      <td>0.0</td>\n",
              "      <td>0.0</td>\n",
              "      <td>0.0</td>\n",
              "      <td>0.0</td>\n",
              "    </tr>\n",
              "  </tbody>\n",
              "</table>\n",
              "<p>5 rows × 714 columns</p>\n",
              "</div>"
            ],
            "text/plain": [
              "article_id  0.0  100.0  1000.0  1004.0  1006.0  1008.0  101.0  1014.0  1015.0  \\\n",
              "user_id                                                                         \n",
              "1           0.0    0.0     0.0     0.0     0.0     0.0    0.0     0.0     0.0   \n",
              "2           0.0    0.0     0.0     0.0     0.0     0.0    0.0     0.0     0.0   \n",
              "3           0.0    0.0     0.0     0.0     0.0     0.0    0.0     0.0     0.0   \n",
              "4           0.0    0.0     0.0     0.0     0.0     0.0    0.0     0.0     0.0   \n",
              "5           0.0    0.0     0.0     0.0     0.0     0.0    0.0     0.0     0.0   \n",
              "\n",
              "article_id  1016.0  ...    977.0  98.0  981.0  984.0  985.0  986.0  990.0  \\\n",
              "user_id             ...                                                     \n",
              "1              0.0  ...      0.0   0.0    1.0    0.0    0.0    0.0    0.0   \n",
              "2              0.0  ...      0.0   0.0    0.0    0.0    0.0    0.0    0.0   \n",
              "3              0.0  ...      1.0   0.0    0.0    0.0    0.0    0.0    0.0   \n",
              "4              0.0  ...      0.0   0.0    0.0    0.0    0.0    0.0    0.0   \n",
              "5              0.0  ...      0.0   0.0    0.0    0.0    0.0    0.0    0.0   \n",
              "\n",
              "article_id  993.0  996.0  997.0  \n",
              "user_id                          \n",
              "1             0.0    0.0    0.0  \n",
              "2             0.0    0.0    0.0  \n",
              "3             0.0    0.0    0.0  \n",
              "4             0.0    0.0    0.0  \n",
              "5             0.0    0.0    0.0  \n",
              "\n",
              "[5 rows x 714 columns]"
            ]
          },
          "execution_count": 86,
          "metadata": {},
          "output_type": "execute_result"
        }
      ],
      "source": [
        "# quick look at the matrix\n",
        "user_item_matrix.head()"
      ]
    },
    {
      "cell_type": "markdown",
      "metadata": {
        "id": "jkdpoYYk611f"
      },
      "source": [
        "`2.` In this situation, you can use Singular Value Decomposition from [numpy](https://docs.scipy.org/doc/numpy-1.14.0/reference/generated/numpy.linalg.svd.html) on the user-item matrix.  Use the cell to perform SVD, and explain why this is different than in the lesson."
      ]
    },
    {
      "cell_type": "code",
      "execution_count": null,
      "metadata": {
        "id": "Wy_RZmCG611f"
      },
      "outputs": [],
      "source": [
        "# Perform SVD on the User-Item Matrix Here\n",
        "\n",
        "u, s, vt = np.linalg.svd(user_item_matrix)# use the built in to get the three matrices"
      ]
    },
    {
      "cell_type": "markdown",
      "metadata": {
        "id": "ta5wMVzc611f"
      },
      "source": [
        "We can run SVD on this matrix because there are no missing values. We had to use FunkSVD in the classroom since our matrix had missing values."
      ]
    },
    {
      "cell_type": "markdown",
      "metadata": {
        "id": "0nnuOlC2611f"
      },
      "source": [
        "`3.` Now for the tricky part, how do we choose the number of latent features to use?  Running the below cell, you can see that as the number of latent features increases, we obtain a lower error rate on making predictions for the 1 and 0 values in the user-item matrix.  Run the cell below to get an idea of how the accuracy improves as we increase the number of latent features."
      ]
    },
    {
      "cell_type": "code",
      "execution_count": null,
      "metadata": {
        "id": "Qx68klBZ611f",
        "outputId": "39aab6d7-960a-49ff-bfd3-e126ec90a06c"
      },
      "outputs": [
        {
          "data": {
            "image/png": "[encoded data removed]",
            "text/plain": [
              "<matplotlib.figure.Figure at 0x7f26775d3470>"
            ]
          },
          "metadata": {
            "needs_background": "light"
          },
          "output_type": "display_data"
        }
      ],
      "source": [
        "num_latent_feats = np.arange(10,700+10,20)\n",
        "sum_errs = []\n",
        "\n",
        "for k in num_latent_feats:\n",
        "    # restructure with k latent features\n",
        "    s_new, u_new, vt_new = np.diag(s[:k]), u[:, :k], vt[:k, :]\n",
        "    \n",
        "    # take dot product\n",
        "    user_item_est = np.around(np.dot(np.dot(u_new, s_new), vt_new))\n",
        "    \n",
        "    # compute error for each prediction to actual value\n",
        "    diffs = np.subtract(user_item_matrix, user_item_est)\n",
        "    \n",
        "    # total errors and keep track of them\n",
        "    err = np.sum(np.sum(np.abs(diffs)))\n",
        "    sum_errs.append(err)\n",
        "    \n",
        "    \n",
        "plt.plot(num_latent_feats, 1 - np.array(sum_errs)/df.shape[0]);\n",
        "plt.xlabel('Number of Latent Features');\n",
        "plt.ylabel('Accuracy');\n",
        "plt.title('Accuracy vs. Number of Latent Features');"
      ]
    },
    {
      "cell_type": "markdown",
      "metadata": {
        "id": "dDx7Ufft611f"
      },
      "source": [
        "`4.` From the above, we can't really be sure how many features to use, because simply having a better way to predict the 1's and 0's of the matrix doesn't exactly give us an indication of if we are able to make good recommendations.  Instead, we might split our dataset into a training and test set of data, as shown in the cell below.  \n",
        "\n",
        "Use the code from question 3 to understand the impact on accuracy of the training and test sets of data with different numbers of latent features. Using the split below: \n",
        "\n",
        "* How many users can we make predictions for in the test set?  \n",
        "* How many users are we not able to make predictions for because of the cold start problem?\n",
        "* How many articles can we make predictions for in the test set?  \n",
        "* How many articles are we not able to make predictions for because of the cold start problem?"
      ]
    },
    {
      "cell_type": "code",
      "execution_count": null,
      "metadata": {
        "id": "rJsOOTVx611f"
      },
      "outputs": [],
      "source": [
        "df_train = df.head(40000)\n",
        "df_test = df.tail(5993)\n",
        "\n",
        "def create_test_and_train_user_item(df_train, df_test):\n",
        "    '''\n",
        "    INPUT:\n",
        "    df_train - training dataframe\n",
        "    df_test - test dataframe\n",
        "    \n",
        "    OUTPUT:\n",
        "    user_item_train - a user-item matrix of the training dataframe \n",
        "                      (unique users for each row and unique articles for each column)\n",
        "    user_item_test - a user-item matrix of the testing dataframe \n",
        "                    (unique users for each row and unique articles for each column)\n",
        "    test_idx - all of the test user ids\n",
        "    test_arts - all of the test article ids\n",
        "    \n",
        "    '''\n",
        "    user_item_train = create_user_item_matrix(df_train)\n",
        "    user_item_test = create_user_item_matrix(df_test)\n",
        "    test_idx = user_item_test.index\n",
        "    test_arts = user_item_test.columns\n",
        "    return user_item_train, user_item_test, test_idx, test_arts\n",
        "\n",
        "user_item_train, user_item_test, test_idx, test_arts = create_test_and_train_user_item(df_train, df_test)"
      ]
    },
    {
      "cell_type": "code",
      "execution_count": null,
      "metadata": {
        "id": "uQt_ORth611g",
        "outputId": "6854d9b0-1700-49b7-f058-693e5c9bfca9"
      },
      "outputs": [
        {
          "data": {
            "text/plain": [
              "Int64Index([2917, 3024, 3093, 3193, 3527, 3532, 3684, 3740, 3777, 3801,\n",
              "            ...\n",
              "            5140, 5141, 5142, 5143, 5144, 5145, 5146, 5147, 5148, 5149],\n",
              "           dtype='int64', name='user_id', length=682)"
            ]
          },
          "execution_count": 92,
          "metadata": {},
          "output_type": "execute_result"
        }
      ],
      "source": [
        "test_idx"
      ]
    },
    {
      "cell_type": "code",
      "execution_count": null,
      "metadata": {
        "id": "hJwZlscG611g",
        "outputId": "a3c7bf65-c33b-423c-9136-4577a83d553a"
      },
      "outputs": [
        {
          "data": {
            "text/plain": [
              "Int64Index([   1,    2,    3,    4,    5,    6,    7,    8,    9,   10,\n",
              "            ...\n",
              "            4478, 4479, 4480, 4481, 4482, 4483, 4484, 4485, 4486, 4487],\n",
              "           dtype='int64', name='user_id', length=4487)"
            ]
          },
          "execution_count": 93,
          "metadata": {},
          "output_type": "execute_result"
        }
      ],
      "source": [
        "train_idx = user_item_train.index\n",
        "train_idx "
      ]
    },
    {
      "cell_type": "code",
      "execution_count": null,
      "metadata": {
        "id": "kGgixLwu611g",
        "outputId": "ab2f8089-a0b6-4594-ae4a-03feb74396c4"
      },
      "outputs": [
        {
          "data": {
            "text/plain": [
              "Int64Index([4488, 4489, 4490, 4491, 4492, 4493, 4494, 4495, 4496, 4497,\n",
              "            ...\n",
              "            5140, 5141, 5142, 5143, 5144, 5145, 5146, 5147, 5148, 5149],\n",
              "           dtype='int64', name='user_id', length=662)"
            ]
          },
          "execution_count": 94,
          "metadata": {},
          "output_type": "execute_result"
        }
      ],
      "source": [
        "test_idx.difference(train_idx)"
      ]
    },
    {
      "cell_type": "code",
      "execution_count": null,
      "metadata": {
        "id": "AFmvQY1G611g",
        "outputId": "6abc17d6-ea42-45f1-e607-2b724f3a55d2"
      },
      "outputs": [
        {
          "data": {
            "text/plain": [
              "Float64Index([   0.0,    2.0,    4.0,    8.0,    9.0,   12.0,   14.0,   15.0,\n",
              "                16.0,   18.0,\n",
              "              ...\n",
              "              1432.0, 1433.0, 1434.0, 1435.0, 1436.0, 1437.0, 1439.0, 1440.0,\n",
              "              1441.0, 1443.0],\n",
              "             dtype='float64', name='article_id', length=574)"
            ]
          },
          "execution_count": 95,
          "metadata": {},
          "output_type": "execute_result"
        }
      ],
      "source": [
        "test_arts"
      ]
    },
    {
      "cell_type": "code",
      "execution_count": null,
      "metadata": {
        "id": "LJGvxzuM611g",
        "outputId": "fcf66d93-0092-42b6-de02-ea72a36a9f0e"
      },
      "outputs": [
        {
          "data": {
            "text/plain": [
              "Float64Index([   0.0,    2.0,    4.0,    8.0,    9.0,   12.0,   14.0,   15.0,\n",
              "                16.0,   18.0,\n",
              "              ...\n",
              "              1434.0, 1435.0, 1436.0, 1437.0, 1439.0, 1440.0, 1441.0, 1442.0,\n",
              "              1443.0, 1444.0],\n",
              "             dtype='float64', name='article_id', length=714)"
            ]
          },
          "execution_count": 97,
          "metadata": {},
          "output_type": "execute_result"
        }
      ],
      "source": [
        "train_arts = user_item_train.columns\n",
        "train_arts"
      ]
    },
    {
      "cell_type": "code",
      "execution_count": null,
      "metadata": {
        "id": "AHbPI9xf611g",
        "outputId": "3947ea35-7771-47af-da7f-eaec3e76ed81"
      },
      "outputs": [
        {
          "data": {
            "text/plain": [
              "Float64Index([], dtype='float64', name='article_id')"
            ]
          },
          "execution_count": 98,
          "metadata": {},
          "output_type": "execute_result"
        }
      ],
      "source": [
        "test_arts.difference(train_arts)"
      ]
    },
    {
      "cell_type": "code",
      "execution_count": null,
      "metadata": {
        "id": "Xdk5e7bv611g",
        "outputId": "bfcd9e64-d8d5-44ae-94a2-f38a69d8ae77"
      },
      "outputs": [
        {
          "name": "stdout",
          "output_type": "stream",
          "text": [
            "Awesome job!  That's right!  All of the test movies are in the training data, but there are only 20 test users that were also in the training set.  All of the other users that are in the test set we have no data on.  Therefore, we cannot make predictions for these users using SVD.\n"
          ]
        }
      ],
      "source": [
        "# Replace the values in the dictionary below\n",
        "a = 662 \n",
        "b = 574 \n",
        "c = 20 \n",
        "d = 0 \n",
        "\n",
        "\n",
        "sol_4_dict = {\n",
        "    'How many users can we make predictions for in the test set?': c, \n",
        "    'How many users in the test set are we not able to make predictions for because of the cold start problem?': a, \n",
        "    'How many movies can we make predictions for in the test set?': b,\n",
        "    'How many movies in the test set are we not able to make predictions for because of the cold start problem?': d\n",
        "}\n",
        "\n",
        "t.sol_4_test(sol_4_dict)"
      ]
    },
    {
      "cell_type": "markdown",
      "metadata": {
        "id": "JuYGBw7e611h"
      },
      "source": [
        "`5.` Now use the **user_item_train** dataset from above to find U, S, and V transpose using SVD. Then find the subset of rows in the **user_item_test** dataset that you can predict using this matrix decomposition with different numbers of latent features to see how many features makes sense to keep based on the accuracy on the test data. This will require combining what was done in questions `2` - `4`.\n",
        "\n",
        "Use the cells below to explore how well SVD works towards making predictions for recommendations on the test data.  "
      ]
    },
    {
      "cell_type": "code",
      "execution_count": null,
      "metadata": {
        "id": "_Jo2sqPJ611h"
      },
      "outputs": [],
      "source": [
        "# fit SVD on the user_item_train matrix\n",
        "u_train, s_train, vt_train =np.linalg.svd(user_item_train) # fit svd similar to above then use the cells below"
      ]
    },
    {
      "cell_type": "code",
      "execution_count": null,
      "metadata": {
        "id": "rTpw9S18611h",
        "outputId": "23f69333-509f-4143-e291-afbc84dfeba5"
      },
      "outputs": [
        {
          "data": {
            "text/plain": [
              "((714,), (4487, 4487), (714, 714))"
            ]
          },
          "execution_count": 105,
          "metadata": {},
          "output_type": "execute_result"
        }
      ],
      "source": [
        "# Use these cells to see how well you can use the training \n",
        "# decomposition to predict on test data\n",
        "s_train.shape, u_train.shape, vt_train.shape\n"
      ]
    },
    {
      "cell_type": "code",
      "execution_count": null,
      "metadata": {
        "id": "qa9RvlWK611h"
      },
      "outputs": [],
      "source": [
        "num_latent_feats = np.arange(10,700+10,20)\n",
        "sum_errs_train = []\n",
        "sum_errs_test = []"
      ]
    },
    {
      "cell_type": "code",
      "execution_count": null,
      "metadata": {
        "id": "NzVVXGWt611h"
      },
      "outputs": [],
      "source": [
        "row_idx = user_item_train.index.isin(test_idx)\n",
        "col_idx = user_item_train.columns.isin(test_arts)\n"
      ]
    },
    {
      "cell_type": "code",
      "execution_count": null,
      "metadata": {
        "id": "NceFjaVv611h"
      },
      "outputs": [],
      "source": [
        "u_test = u_train[row_idx, :]\n",
        "vt_test = vt_train[:, col_idx]"
      ]
    },
    {
      "cell_type": "code",
      "execution_count": null,
      "metadata": {
        "id": "9svJ0xGo611h"
      },
      "outputs": [],
      "source": [
        "users_can_predict = np.intersect1d(list(user_item_train.index),list(user_item_test.index))"
      ]
    },
    {
      "cell_type": "code",
      "execution_count": null,
      "metadata": {
        "id": "MVRn8uY4611h"
      },
      "outputs": [],
      "source": [
        "for k in num_latent_feats:\n",
        "    s_train_new, u_train_new, vt_train_new = np.diag(s_train[:k]), u_train[:, :k], vt_train[:k, :]\n",
        "    u_test_new, vt_test_new = u_test[:, :k], vt_test[:k, :]\n",
        "    \n",
        "    user_item_train_preds = np.around(np.dot(np.dot(u_train_new, s_train_new), vt_train_new))\n",
        "    user_item_test_preds = np.around(np.dot(np.dot(u_test_new, s_train_new), vt_test_new))\n",
        "    \n",
        "    diffs_train = np.subtract(user_item_train, user_item_train_preds)\n",
        "    diffs_test = np.subtract(user_item_test.loc[users_can_predict,:], user_item_test_preds)\n",
        "    \n",
        "    err_train = np.sum(np.sum(np.abs(diffs_train)))\n",
        "    err_test = np.sum(np.sum(np.abs(diffs_test)))\n",
        "    \n",
        "    sum_errs_train.append(err_train)\n",
        "    sum_errs_test.append(err_test)"
      ]
    },
    {
      "cell_type": "code",
      "execution_count": null,
      "metadata": {
        "id": "rVRV96eR611h",
        "outputId": "86c7f01b-d397-4518-86a8-07e4e83e4685"
      },
      "outputs": [
        {
          "data": {
            "image/png": "[encoded data removed]",
            "text/plain": [
              "<matplotlib.figure.Figure at 0x7f26777f0a20>"
            ]
          },
          "metadata": {
            "needs_background": "light"
          },
          "output_type": "display_data"
        }
      ],
      "source": [
        "# plot\n",
        "fig, ax1 = plt.subplots()\n",
        "\n",
        "ax1.set_xlabel('Latent Features #')\n",
        "ax1.set_ylabel('Training Accuracy', color='blue')\n",
        "ax1.plot(num_latent_feats, 1 - np.array(sum_errs_train)/df.shape[0], color='blue')\n",
        "ax1.tick_params(axis='y', labelcolor='blue')\n",
        "ax1.set_title('Accuracy By Latent Features #')\n",
        "\n",
        "ax2 = ax1.twinx()\n",
        "\n",
        "ax2.set_ylabel('Test Accuracy', color='red')\n",
        "ax2.plot(num_latent_feats, 1 - np.array(sum_errs_test)/df.shape[0], color='red')\n",
        "ax2.tick_params(axis='y', labelcolor='red')\n",
        "\n",
        "fig.tight_layout() \n",
        "plt.show()"
      ]
    },
    {
      "cell_type": "markdown",
      "metadata": {
        "collapsed": true,
        "id": "fEw0nT_V611i"
      },
      "source": [
        "`6.` Use the cell below to comment on the results you found in the previous question. Given the circumstances of your results, discuss what you might do to determine if the recommendations you make with any of the above recommendation systems are an improvement to how users currently find articles? "
      ]
    },
    {
      "cell_type": "markdown",
      "metadata": {
        "id": "qFMvZa18611i"
      },
      "source": [
        "From results above, the accuracy of the training data improves as the number of latent features increases, but the accuracy of the test data decreases as the number of latent features increases. This is most likely related to data overfitting as the number of latent features increases, hence the number of latent features should be maintained low. It's important to remember that we can only provide recommendations for the 20 users in both the training and test datasets using SVD, and we have a very sparse matrix, which is probably why the test data accuracy is so high at >99%.\n",
        "\n",
        "As we increase the latent feature #, the training accuracy increases while the test accuracy decreases in log-shape curves. The sweet point seems to be at around 90 where the two lines meet when neither is too low. In a practical way, we can perform a A/B testing on whether it is improving the traffic/CTR rate metric etc."
      ]
    },
    {
      "cell_type": "markdown",
      "metadata": {
        "collapsed": true,
        "id": "BVbQA9qb611i"
      },
      "source": [
        "<a id='conclusions'></a>\n",
        "### Extras\n",
        "Using your workbook, you could now save your recommendations for each user, develop a class to make new predictions and update your results, and make a flask app to deploy your results.  These tasks are beyond what is required for this project.  However, from what you learned in the lessons, you certainly capable of taking these tasks on to improve upon your work here!\n",
        "\n",
        "\n",
        "## Conclusion\n",
        "\n",
        "> Congratulations!  You have reached the end of the Recommendations with IBM project! \n",
        "\n",
        "> **Tip**: Once you are satisfied with your work here, check over your report to make sure that it is satisfies all the areas of the [rubric](https://review.udacity.com/#!/rubrics/2322/view). You should also probably remove all of the \"Tips\" like this one so that the presentation is as polished as possible.\n",
        "\n",
        "\n",
        "## Directions to Submit\n",
        "\n",
        "> Before you submit your project, you need to create a .html or .pdf version of this notebook in the workspace here. To do that, run the code cell below. If it worked correctly, you should get a return code of 0, and you should see the generated .html file in the workspace directory (click on the orange Jupyter icon in the upper left).\n",
        "\n",
        "> Alternatively, you can download this report as .html via the **File** > **Download as** submenu, and then manually upload it into the workspace directory by clicking on the orange Jupyter icon in the upper left, then using the Upload button.\n",
        "\n",
        "> Once you've done this, you can submit your project by clicking on the \"Submit Project\" button in the lower right here. This will create and submit a zip file with this .ipynb doc and the .html or .pdf version you created. Congratulations! "
      ]
    },
    {
      "cell_type": "code",
      "execution_count": null,
      "metadata": {
        "collapsed": true,
        "id": "cjf8wCNr611i"
      },
      "outputs": [],
      "source": [
        "from subprocess import call\n",
        "call(['python', '-m', 'nbconvert', 'Recommendations_with_IBM.ipynb'])"
      ]
    }
  ],
  "metadata": {
    "kernelspec": {
      "display_name": "Python 3",
      "language": "python",
      "name": "python3"
    },
    "language_info": {
      "codemirror_mode": {
        "name": "ipython",
        "version": 3
      },
      "file_extension": ".py",
      "mimetype": "text/x-python",
      "name": "python",
      "nbconvert_exporter": "python",
      "pygments_lexer": "ipython3",
      "version": "3.6.3"
    },
    "colab": {
      "name": "Recommendations_with_IBM.ipynb",
      "provenance": [],
      "collapsed_sections": []
    }
  },
  "nbformat": 4,
  "nbformat_minor": 0
}